{
 "cells": [
  {
   "cell_type": "markdown",
   "metadata": {},
   "source": [
    "Pattern Recognition - TH24-1"
   ]
  },
  {
   "cell_type": "code",
   "execution_count": 1,
   "metadata": {},
   "outputs": [
    {
     "name": "stdout",
     "output_type": "stream",
     "text": [
      "Requirement already satisfied: opencv-contrib-python in c:\\users\\theo\\appdata\\roaming\\python\\python311\\site-packages (4.10.0.84)\n",
      "Requirement already satisfied: numpy>=1.21.2 in c:\\users\\theo\\appdata\\local\\programs\\python\\python311\\lib\\site-packages (from opencv-contrib-python) (1.26.0)\n",
      "Note: you may need to restart the kernel to use updated packages.\n"
     ]
    }
   ],
   "source": [
    "%pip install --user opencv-contrib-python"
   ]
  },
  {
   "cell_type": "code",
   "execution_count": 2,
   "metadata": {},
   "outputs": [],
   "source": [
    "import cv2\n",
    "import numpy as np\n",
    "from matplotlib import pyplot as plt\n",
    "import os\n",
    "import math"
   ]
  },
  {
   "cell_type": "code",
   "execution_count": 3,
   "metadata": {},
   "outputs": [
    {
     "name": "stdout",
     "output_type": "stream",
     "text": [
      "Name: opencv-python\n",
      "Version: 4.10.0.84\n",
      "Summary: Wrapper package for OpenCV python bindings.\n",
      "Home-page: https://github.com/opencv/opencv-python\n",
      "Author: \n",
      "Author-email: \n",
      "License: Apache 2.0\n",
      "Location: C:\\Users\\theo\\AppData\\Roaming\\Python\\Python311\\site-packages\n",
      "Requires: numpy\n",
      "Required-by: \n",
      "Note: you may need to restart the kernel to use updated packages.\n"
     ]
    }
   ],
   "source": [
    "%pip show opencv-python"
   ]
  },
  {
   "cell_type": "code",
   "execution_count": 7,
   "metadata": {},
   "outputs": [],
   "source": [
    "train_path = 'train'\n",
    "person_names = os.listdir(train_path)\n",
    "face_cascade = cv2.CascadeClassifier('haarcascade_frontalface_default.xml')\n",
    "face_list = []\n",
    "class_list = []\n",
    "for index, person_name in enumerate(person_names):\n",
    "    full_name_path = train_path + '/' + person_name\n",
    "\n",
    "    for image_path in os.listdir(full_name_path):\n",
    "        full_image_path = full_name_path + '/' + image_path\n",
    "        img_gray = cv2.imread(full_image_path, 0)\n",
    "\n",
    "        detected_faces = face_cascade.detectMultiScale(img_gray, scaleFactor=1.2, minNeighbors=5)\n",
    "        \n",
    "        if(len(detected_faces) < 1):\n",
    "            continue\n",
    "\n",
    "        for face_rect in detected_faces:\n",
    "            x, y, w, h = face_rect\n",
    "            face_img = img_gray[y:y+w, x:x+h]\n",
    "\n",
    "            face_list.append(face_img)\n",
    "            class_list.append(index)\n",
    "\n",
    "face_recognizer = cv2.face.LBPHFaceRecognizer_create()\n",
    "face_recognizer.train(face_list, np.array(class_list))\n",
    "\n",
    "test_path = 'test'\n",
    "for image_path in os.listdir(test_path):\n",
    "    full_image_path = test_path + '/' + image_path\n",
    "    img_bgr = cv2.imread(full_image_path)\n",
    "    img_gray = cv2.cvtColor(img_bgr, cv2.COLOR_BGR2GRAY)\n",
    "\n",
    "    detected_faces = face_cascade.detectMultiScale(img_gray, scaleFactor=1.2, minNeighbors=5)\n",
    "\n",
    "    if(len(detected_faces) < 1):\n",
    "        continue\n",
    "\n",
    "    for face_rect in detected_faces:\n",
    "        x, y, w, h = face_rect\n",
    "        face_img = img_gray[y:y+w, x:x+h]\n",
    "    \n",
    "        res, confidence = face_recognizer.predict(face_img)\n",
    "        confidence = math.floor(confidence * 100) / 100\n",
    "\n",
    "        cv2.rectangle(img_bgr, (x, y), (x+w, y+h), (0, 255, 0), 1)\n",
    "        text = person_names[res] + ' ' + str(confidence) + '%'\n",
    "        cv2.putText(img_bgr, text, (x, y - 10), cv2.FONT_HERSHEY_PLAIN, 1.5, (0, 255, 0), 1)\n",
    "        cv2.imshow('res', img_bgr)\n",
    "        cv2.waitKey(0)"
   ]
  }
 ],
 "metadata": {
  "kernelspec": {
   "display_name": "Python 3",
   "language": "python",
   "name": "python3"
  },
  "language_info": {
   "codemirror_mode": {
    "name": "ipython",
    "version": 3
   },
   "file_extension": ".py",
   "mimetype": "text/x-python",
   "name": "python",
   "nbconvert_exporter": "python",
   "pygments_lexer": "ipython3",
   "version": "3.11.6"
  }
 },
 "nbformat": 4,
 "nbformat_minor": 2
}
